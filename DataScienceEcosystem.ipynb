{
 "cells": [
  {
   "cell_type": "markdown",
   "id": "d9d2008f-a040-405b-9ba6-ab2d4db9c0e0",
   "metadata": {},
   "source": [
    "#  Data Science Tools and Ecosystem"
   ]
  },
  {
   "cell_type": "markdown",
   "id": "4062a95c-d0f2-4a0c-8b39-db9a1a2a46d2",
   "metadata": {},
   "source": [
    "## In this notebook, Data Science Tools and Eccosystem are summarized"
   ]
  },
  {
   "cell_type": "markdown",
   "id": "594b8c1f-f847-48bf-8fc7-0b921c8c62b0",
   "metadata": {},
   "source": [
    "# __Objectives__\n",
    "\n",
    "* List popular languages for Data Science\n",
    "* List popular libraries for Data Science\n",
    "* List popular tools for Data Science\n",
    "* Create and run some examples to evaluate arithmetic expressions in Python"
   ]
  },
  {
   "cell_type": "markdown",
   "id": "0556a296-1148-4c05-a0d6-4905eba88e93",
   "metadata": {},
   "source": [
    "# Some of the popular languages that Data Scientists use are:\n",
    "\r\n",
    "1. Python\n",
    "2. R\n",
    "3. Scla\r\n"
   ]
  },
  {
   "cell_type": "markdown",
   "id": "81cd6c34-f529-498b-ba93-d9858bd3b340",
   "metadata": {},
   "source": [
    "# Some of the commonly used libraries used by Data Scientists include:\n",
    "\n",
    "1. NumPy\n",
    "2. Pandas\n",
    "3. ggplot2"
   ]
  },
  {
   "cell_type": "markdown",
   "id": "de877c38-0d10-455e-a961-a3707ee0fedd",
   "metadata": {},
   "source": [
    "#\n",
    "<table>\n",
    "<tr>\n",
    " <th>Data Science Tools</th>\n",
    "</tr>\n",
    "<tr>\n",
    " <td>Jupyter Notebook</td>\n",
    "</tr>\n",
    "<tr>\n",
    " <td>Spyder</td>\n",
    "</tr>\n",
    "<tr>\n",
    " <td>RStudio</td>\n",
    "</tr>\n",
    "</table>"
   ]
  },
  {
   "cell_type": "markdown",
   "id": "8dd79eba-85e8-422e-ae72-43c133f684f3",
   "metadata": {},
   "source": [
    "### Below are a few examples of evaluating arithmetic expressions in Python"
   ]
  },
  {
   "cell_type": "code",
   "execution_count": 25,
   "id": "c9418999-9404-45a3-9674-c5fdd956c492",
   "metadata": {},
   "outputs": [
    {
     "data": {
      "text/plain": [
       "17"
      ]
     },
     "execution_count": 25,
     "metadata": {},
     "output_type": "execute_result"
    }
   ],
   "source": [
    "(3*4)+5"
   ]
  },
  {
   "cell_type": "code",
   "execution_count": null,
   "id": "5dbdd3de-a502-460a-bc72-f074d9b81516",
   "metadata": {},
   "outputs": [],
   "source": [
    "# This will convert 200 minutes to hours by diving by 60\n",
    "200/60"
   ]
  },
  {
   "cell_type": "markdown",
   "id": "2a0e6f4e-8dcb-4d7d-8b99-8638efab46bd",
   "metadata": {},
   "source": [
    "## Author\n",
    "Kristeen Starnes"
   ]
  }
 ],
 "metadata": {
  "kernelspec": {
   "display_name": "Python 3 (ipykernel)",
   "language": "python",
   "name": "python3"
  },
  "language_info": {
   "codemirror_mode": {
    "name": "ipython",
    "version": 3
   },
   "file_extension": ".py",
   "mimetype": "text/x-python",
   "name": "python",
   "nbconvert_exporter": "python",
   "pygments_lexer": "ipython3",
   "version": "3.12.4"
  }
 },
 "nbformat": 4,
 "nbformat_minor": 5
}
