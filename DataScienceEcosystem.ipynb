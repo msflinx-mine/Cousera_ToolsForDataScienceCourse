{
 "cells": [
  {
   "cell_type": "markdown",
   "id": "1f0b814b-ec1d-4dca-a7dd-460d308d4555",
   "metadata": {},
   "source": [
    "#  Data Science Tools and Ecosystem"
   ]
  },
  {
   "cell_type": "markdown",
   "id": "ec2ae190-d4e6-4ba3-a0ff-315ac8412f87",
   "metadata": {},
   "source": [
    "# In this notebook, Data Science Tools and Eccosystem are summarized"
   ]
  },
  {
   "cell_type": "markdown",
   "id": "af37a286-c693-4000-9bb7-059386c64740",
   "metadata": {},
   "source": [
    "# __Objectives__\n",
    "\n",
    "* List popular languages for Data Science\n",
    "* List popular libraries for Data Science\n",
    "* List popular tools for Data Science\n",
    "* Create and run some examples to evaluate arithmetic expressions in Python"
   ]
  },
  {
   "cell_type": "markdown",
   "id": "3f0bfd91-11ed-4a27-9266-239a545faee3",
   "metadata": {},
   "source": [
    "# Some of the popular languages that Data Scientists use are:\n",
    "\r",
    "1. Python\n",
    "2. R\n",
    "3. Scala\r\n"
   ]
  },
  {
   "cell_type": "markdown",
   "id": "82d24743-0fec-43d6-92b9-7460230fd9b6",
   "metadata": {},
   "source": [
    "# Some of the commonly used libraries used by Data Scientists include:\n",
    "\n",
    "1. NumPy\n",
    "2. Pandas\n",
    "3. ggplot2"
   ]
  },
  {
   "cell_type": "markdown",
   "id": "ec860cf0-ef3e-41de-a931-78bc36f41a6e",
   "metadata": {},
   "source": [
    "#\n",
    "<table>\n",
    "<tr>\n",
    " <th>Data Science Tools</th>\n",
    "</tr>\n",
    "<tr>\n",
    " <td>Jupyter Notebook</td>\n",
    "</tr>\n",
    "<tr>\n",
    " <td>Spyder</td>\n",
    "</tr>\n",
    "<tr>\n",
    " <td>RStudio</td>\n",
    "</tr>\n",
    "</table>"
   ]
  },
  {
   "cell_type": "markdown",
   "id": "87efb35d-36f3-4d95-9c34-1b179f990923",
   "metadata": {},
   "source": [
    "### Below are a few examples of evaluating arithmetic expressions in Python"
   ]
  },
  {
   "cell_type": "code",
   "execution_count": 2,
   "id": "c9418999-9404-45a3-9674-c5fdd956c492",
   "metadata": {},
   "outputs": [
    {
     "data": {
      "text/plain": [
       "17"
      ]
     },
     "execution_count": 2,
     "metadata": {},
     "output_type": "execute_result"
    }
   ],
   "source": [
    "(3*4)+5"
   ]
  },
  {
   "cell_type": "code",
   "execution_count": 3,
   "id": "5dbdd3de-a502-460a-bc72-f074d9b81516",
   "metadata": {},
   "outputs": [
    {
     "data": {
      "text/plain": [
       "3.3333333333333335"
      ]
     },
     "execution_count": 3,
     "metadata": {},
     "output_type": "execute_result"
    }
   ],
   "source": [
    "# This will convert 200 minutes to hours by diving by 60\n",
    "200/60"
   ]
  },
  {
   "cell_type": "markdown",
   "id": "30c10d2b-c95d-4b68-a68b-b377fd76aad2",
   "metadata": {},
   "source": [
    "## Author\n",
    "Kristeen Starnes"
   ]
  }
 ],
 "metadata": {
  "kernelspec": {
   "display_name": "Python 3 (ipykernel)",
   "language": "python",
   "name": "python3"
  },
  "language_info": {
   "codemirror_mode": {
    "name": "ipython",
    "version": 3
   },
   "file_extension": ".py",
   "mimetype": "text/x-python",
   "name": "python",
   "nbconvert_exporter": "python",
   "pygments_lexer": "ipython3",
   "version": "3.12.4"
  }
 },
 "nbformat": 4,
 "nbformat_minor": 5
}
