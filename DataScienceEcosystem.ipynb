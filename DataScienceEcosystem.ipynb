{
 "cells": [
  {
   "cell_type": "markdown",
   "id": "5655a93e-0764-4223-8d76-7ccca43fd55d",
   "metadata": {},
   "source": [
    "#  Data Science Tools and Ecosystem"
   ]
  },
  {
   "cell_type": "markdown",
   "id": "c58e12d1-8ac4-4851-a85e-e96a7da1c2dd",
   "metadata": {},
   "source": [
    "## In this notebook, Data Science Tools and Eccosystem are summarized"
   ]
  },
  {
   "cell_type": "markdown",
   "id": "1996829a-d7b4-4b77-ae1a-4661a1afd392",
   "metadata": {},
   "source": [
    "# __Objectives__\n",
    "<l>\n",
    "<li>List popular languages for Data Science</li>\n",
    "<li>List popular libraries for Data Science</li>\n",
    "<li>List popular tools for Data Science</li>\n",
    "<li>Create and run some examples to evaluate arithmetic expressions in Python</li>\n",
    "</l>"
   ]
  },
  {
   "cell_type": "markdown",
   "id": "260a84b9-d223-44a0-bd98-0e858203b8e3",
   "metadata": {},
   "source": [
    "# Some of the popular languages that Data Scientists use are:\r\n",
    "\r\n",
    "<ol>\r\n",
    "<li>Python</li>\r\n",
    "<li>R</li>\r\n",
    "<li>Scala</li>ol>\r\n",
    "\r\n"
   ]
  },
  {
   "cell_type": "markdown",
   "id": "14652aa8-aebb-44b0-8c98-f6d23c300405",
   "metadata": {},
   "source": [
    "# Some of the commonly used libraries used by Data Scientists include:\n",
    "\n",
    "<ol>\n",
    "<li>NumPy</li>\n",
    "<li>Pandas</li>\n",
    "<li>ggplot2</li>\n",
    "</ol>"
   ]
  },
  {
   "cell_type": "markdown",
   "id": "0bb58b11-ee37-4356-bfae-21faa4c0b302",
   "metadata": {},
   "source": [
    "<table>\n",
    "<tr>\n",
    " <th>Data Science Tools</th>\n",
    "</tr>\n",
    "<tr>\n",
    " <td>Jupyter Notebook</td>\n",
    "</tr>\n",
    "<tr>\n",
    " <td>Spyder</td>\n",
    "</tr>\n",
    "<tr>\n",
    " <td>RStudio</td>\n",
    "</tr>\n",
    "</table>"
   ]
  },
  {
   "cell_type": "markdown",
   "id": "c8916797-8d0a-4751-8060-b79f47741e31",
   "metadata": {},
   "source": [
    "# Below are a few examples of evaluating arithmetic expressions in Python"
   ]
  },
  {
   "cell_type": "code",
   "execution_count": 25,
   "id": "c9418999-9404-45a3-9674-c5fdd956c492",
   "metadata": {},
   "outputs": [
    {
     "data": {
      "text/plain": [
       "17"
      ]
     },
     "execution_count": 25,
     "metadata": {},
     "output_type": "execute_result"
    }
   ],
   "source": [
    "(3*4)+5"
   ]
  },
  {
   "cell_type": "code",
   "execution_count": 26,
   "id": "fb037733-2956-4657-a095-3cee781b4bef",
   "metadata": {},
   "outputs": [
    {
     "data": {
      "text/plain": [
       "3.3333333333333335"
      ]
     },
     "execution_count": 26,
     "metadata": {},
     "output_type": "execute_result"
    }
   ],
   "source": [
    "# This will convert 200 minutes to hours by diving by 60\n",
    "200/60"
   ]
  },
  {
   "cell_type": "markdown",
   "id": "b045bb06-9d7a-4bc3-84b8-fb3c04e9f555",
   "metadata": {},
   "source": [
    "## Author\n",
    "Kristeen Starnes"
   ]
  }
 ],
 "metadata": {
  "kernelspec": {
   "display_name": "Python 3 (ipykernel)",
   "language": "python",
   "name": "python3"
  },
  "language_info": {
   "codemirror_mode": {
    "name": "ipython",
    "version": 3
   },
   "file_extension": ".py",
   "mimetype": "text/x-python",
   "name": "python",
   "nbconvert_exporter": "python",
   "pygments_lexer": "ipython3",
   "version": "3.12.4"
  }
 },
 "nbformat": 4,
 "nbformat_minor": 5
}
